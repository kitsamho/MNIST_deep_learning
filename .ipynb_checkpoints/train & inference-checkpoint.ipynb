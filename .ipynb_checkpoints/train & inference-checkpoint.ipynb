{
 "cells": [
  {
   "cell_type": "code",
   "execution_count": 41,
   "id": "641b0f4f",
   "metadata": {},
   "outputs": [],
   "source": [
    "import torch\n",
    "from torch import nn\n",
    "from torchvision import datasets, transforms\n",
    "import matplotlib.pyplot as plt"
   ]
  },
  {
   "cell_type": "code",
   "execution_count": 42,
   "id": "2df86675",
   "metadata": {},
   "outputs": [],
   "source": [
    "\n",
    "\n",
    "\n",
    "\n",
    "training_transform = transforms.Compose([\n",
    "    transforms.RandomHorizontalFlip(p=0.5),       # Data Augmentation\n",
    "    transforms.ToTensor(),                        # Transforms image to range of 0 - 1\n",
    "    transforms.Normalize((0.1307,), (0.3081,))    # Normalizes image\n",
    "    ])\n",
    "\n",
    "testing_transform = transforms.Compose([          # No Data Augmentation for test transform\n",
    "    transforms.ToTensor(),\n",
    "    transforms.Normalize((0.1307,), (0.3081,))\n",
    "    ])\n",
    "\n",
    "\n",
    "\n",
    "\n",
    "trainset = datasets.MNIST('temp_data/', download=True, train=True, transform=training_transform)\n",
    "train_loader = torch.utils.data.DataLoader(trainset, batch_size=batch_size, shuffle=True)\n",
    "\n",
    "testset = datasets.MNIST('temp_data/', download=True, train=False, transform=testing_transform)\n",
    "test_loader = torch.utils.data.DataLoader(testset, batch_size=batch_size, shuffle=True)\n",
    "\n",
    "\n",
    "\n",
    "\n"
   ]
  },
  {
   "cell_type": "code",
   "execution_count": 43,
   "id": "2dd5d4e7",
   "metadata": {},
   "outputs": [
    {
     "name": "stdout",
     "output_type": "stream",
     "text": [
      "Predicted Digit = 5\n"
     ]
    }
   ],
   "source": [
    "\n"
   ]
  },
  {
   "cell_type": "code",
   "execution_count": 44,
   "id": "5fb4ceaf",
   "metadata": {},
   "outputs": [
    {
     "data": {
      "text/plain": [
       "tensor([[-0.4242, -0.4242, -0.4242, -0.4242, -0.4242, -0.4242, -0.4242, -0.4242,\n",
       "         -0.4242, -0.4242, -0.4242, -0.4242, -0.4242, -0.4242, -0.4242, -0.4242,\n",
       "         -0.4242, -0.4242, -0.4242, -0.4242, -0.4242, -0.4242, -0.4242, -0.4242,\n",
       "         -0.4242, -0.4242, -0.4242, -0.4242, -0.4242, -0.4242, -0.4242, -0.4242,\n",
       "         -0.4242, -0.4242, -0.4242, -0.4242, -0.4242, -0.4242, -0.4242, -0.4242,\n",
       "         -0.4242, -0.4242, -0.4242, -0.4242, -0.4242, -0.4242, -0.4242, -0.4242,\n",
       "         -0.4242, -0.4242, -0.4242, -0.4242, -0.4242, -0.4242, -0.4242, -0.4242,\n",
       "         -0.4242, -0.4242, -0.4242, -0.4242, -0.4242, -0.4242, -0.4242, -0.4242,\n",
       "         -0.4242, -0.4242, -0.4242, -0.4242, -0.4242, -0.4242, -0.4242, -0.4242,\n",
       "         -0.4242, -0.4242, -0.4242, -0.4242, -0.4242, -0.4242, -0.4242, -0.4242,\n",
       "         -0.4242, -0.4242, -0.4242, -0.4242, -0.4242, -0.4242, -0.4242, -0.4242,\n",
       "         -0.4242, -0.4242, -0.4242, -0.4242, -0.4242, -0.4242, -0.4242, -0.4242,\n",
       "         -0.4242, -0.4242, -0.4242, -0.4242, -0.4242, -0.4242, -0.4242, -0.4242,\n",
       "         -0.4242, -0.4242, -0.4242, -0.4242, -0.4242, -0.4242, -0.4242, -0.4242,\n",
       "         -0.4242, -0.4242, -0.4242, -0.4242, -0.4242, -0.4242, -0.4242, -0.4242,\n",
       "         -0.4242, -0.4242, -0.4242, -0.4242, -0.4242, -0.4242, -0.4242, -0.4242,\n",
       "         -0.4242, -0.4242, -0.4242, -0.4242, -0.4242, -0.4242, -0.4242, -0.4242,\n",
       "         -0.4242, -0.4242, -0.4242, -0.4242, -0.4242, -0.4242, -0.4242, -0.4242,\n",
       "         -0.4242, -0.4242, -0.4242, -0.4242, -0.4242, -0.4242, -0.4242, -0.4242,\n",
       "         -0.4242, -0.3478,  1.4723,  2.1978,  0.6195,  0.0085,  0.0085,  0.1231,\n",
       "          1.4087,  2.5160,  2.7578,  1.4087,  0.8613, -0.4242, -0.4242, -0.4242,\n",
       "         -0.4242, -0.4242, -0.4242, -0.4242, -0.4242, -0.4242, -0.4242, -0.4242,\n",
       "         -0.4242, -0.4242, -0.4242, -0.4242, -0.4242, -0.0042,  2.5797,  2.7960,\n",
       "          2.8088,  2.7960,  2.7960,  2.7960,  2.7960,  2.7960,  2.7960,  2.7960,\n",
       "          2.0705, -0.3097, -0.4242, -0.4242, -0.4242, -0.4242, -0.4242, -0.4242,\n",
       "         -0.4242, -0.4242, -0.4242, -0.4242, -0.4242, -0.4242, -0.4242, -0.4242,\n",
       "         -0.4242,  0.6068,  2.6560,  2.7960,  2.8088,  2.7960,  2.7960,  2.7960,\n",
       "          2.7960,  2.7960,  2.7960,  2.5797,  1.1159, -0.3478, -0.4242, -0.4242,\n",
       "         -0.4242, -0.4242, -0.4242, -0.4242, -0.4242, -0.4242, -0.4242, -0.4242,\n",
       "         -0.4242, -0.4242, -0.4242, -0.4242, -0.4115,  1.6505,  2.7960,  2.7960,\n",
       "          2.6560,  2.5160,  1.9687,  1.1159,  1.1159,  0.6322, -0.2969, -0.3097,\n",
       "         -0.4242, -0.4242, -0.4242, -0.4242, -0.4242, -0.4242, -0.4242, -0.4242,\n",
       "         -0.4242, -0.4242, -0.4242, -0.4242, -0.4242, -0.4242, -0.4242, -0.4242,\n",
       "         -0.2715,  2.7960,  2.7960,  0.9632,  0.0722, -0.4242, -0.4242, -0.4242,\n",
       "         -0.4242, -0.4242, -0.4242, -0.4242, -0.4242, -0.4242, -0.4242, -0.4242,\n",
       "         -0.4242, -0.4242, -0.4242, -0.4242, -0.4242, -0.4242, -0.4242, -0.4242,\n",
       "         -0.4242, -0.4242, -0.4242, -0.4242, -0.2715,  2.7960,  2.7960,  0.4795,\n",
       "         -0.4242, -0.4242, -0.4242, -0.4242, -0.4242, -0.4242, -0.4242, -0.4242,\n",
       "         -0.4242, -0.4242, -0.4242, -0.4242, -0.4242, -0.4242, -0.4242, -0.4242,\n",
       "         -0.4242, -0.4242, -0.4242, -0.4242, -0.4242, -0.4242, -0.4242, -0.4242,\n",
       "          0.4031,  2.7960,  2.7960,  0.7213, -0.4242, -0.4242, -0.4242, -0.4242,\n",
       "         -0.4242, -0.4242, -0.4242, -0.4242, -0.4242, -0.4242, -0.4242, -0.4242,\n",
       "         -0.4242, -0.4242, -0.4242, -0.4242, -0.4242, -0.4242, -0.4242, -0.4242,\n",
       "         -0.4242, -0.4242, -0.4242, -0.4242,  1.3705,  2.7960,  2.6306, -0.0806,\n",
       "         -0.4242, -0.4242, -0.4242, -0.4242, -0.4242, -0.4242, -0.4242, -0.4242,\n",
       "         -0.4242, -0.4242, -0.4242, -0.4242, -0.4242, -0.4242, -0.4242, -0.4242,\n",
       "         -0.4242, -0.4242, -0.4242, -0.4242, -0.4242, -0.4242, -0.4242, -0.4242,\n",
       "          1.9178,  2.7960,  2.2487, -0.2333, -0.4242, -0.4242, -0.4242, -0.4242,\n",
       "         -0.4242, -0.4242, -0.4242, -0.4242, -0.4242, -0.4242, -0.4242, -0.4242,\n",
       "         -0.4242, -0.4242, -0.4242, -0.4242, -0.4242, -0.4242, -0.4242, -0.4242,\n",
       "         -0.4242, -0.4242, -0.4242, -0.4242,  1.9178,  2.7960,  2.2487, -0.2333,\n",
       "         -0.4242, -0.4242, -0.4242, -0.4242, -0.4242, -0.4242, -0.4242, -0.4242,\n",
       "         -0.4242, -0.4242, -0.4242, -0.4242, -0.4242, -0.4242, -0.4242, -0.4242,\n",
       "         -0.4242, -0.4242, -0.4242, -0.4242, -0.4242, -0.4242, -0.4242, -0.4242,\n",
       "          0.3268,  2.6560,  2.8215,  0.1740, -0.4242, -0.4242, -0.4242, -0.4242,\n",
       "         -0.4242, -0.4242, -0.4242, -0.4242, -0.4242, -0.4242, -0.4242, -0.4242,\n",
       "         -0.4242, -0.4242, -0.4242, -0.4242, -0.4242, -0.4242, -0.4242, -0.4242,\n",
       "         -0.4242, -0.4242, -0.4242, -0.4242,  0.2631,  2.0960,  2.7960,  0.7850,\n",
       "         -0.4242, -0.4242, -0.4242, -0.4242, -0.4242, -0.4242, -0.4242, -0.4242,\n",
       "         -0.4242, -0.4242, -0.4242, -0.4242, -0.4242, -0.4242, -0.4242, -0.4242,\n",
       "         -0.4242, -0.4242, -0.4242, -0.4242, -0.4242, -0.4242, -0.4242, -0.4242,\n",
       "         -0.2969,  2.5924,  2.7960,  0.2377, -0.4242, -0.4242, -0.4242, -0.4242,\n",
       "         -0.4242, -0.4242, -0.4242, -0.4242, -0.4242, -0.4242, -0.4242, -0.4242,\n",
       "         -0.4242, -0.4242, -0.4242, -0.4242, -0.4242, -0.4242,  0.1104,  2.6687,\n",
       "          2.1214,  0.5177, -0.4242, -0.4242, -0.2715,  2.7960,  2.7960, -0.0042,\n",
       "         -0.4242, -0.4242, -0.4242, -0.4242, -0.4242, -0.4242, -0.4242, -0.4242,\n",
       "         -0.4242, -0.4242, -0.4242, -0.4242, -0.4242, -0.4242, -0.4242, -0.4242,\n",
       "         -0.4242, -0.4242,  1.4087,  2.7960,  2.7960,  2.7069,  1.2177, -0.4242,\n",
       "         -0.2715,  2.7960,  2.7960, -0.0042, -0.4242, -0.4242, -0.4242, -0.4242,\n",
       "         -0.4242, -0.4242, -0.4242, -0.4242, -0.4242, -0.4242, -0.4242, -0.4242,\n",
       "         -0.4242, -0.4242, -0.4242, -0.4242, -0.4242, -0.4242,  0.7722,  2.4651,\n",
       "          2.7960,  2.7960,  1.4850, -0.4242, -0.3860,  1.3196,  2.7960,  0.4795,\n",
       "         -0.4242, -0.4242, -0.4242, -0.4242, -0.4242, -0.4242, -0.4242, -0.4242,\n",
       "         -0.4242, -0.4242, -0.4242, -0.4242, -0.4242, -0.4242, -0.4242, -0.4242,\n",
       "         -0.4242, -0.4242, -0.2333,  2.2487,  2.7960,  2.7960,  2.7451,  1.4214,\n",
       "          1.1923,  2.5797,  2.7960,  0.1104, -0.4242, -0.4242, -0.4242, -0.4242,\n",
       "         -0.4242, -0.4242, -0.4242, -0.4242, -0.4242, -0.4242, -0.4242, -0.4242,\n",
       "         -0.4242, -0.4242, -0.4242, -0.4242, -0.4242, -0.4242, -0.4242,  0.8232,\n",
       "          2.7069,  2.7960,  2.7960,  2.7960,  2.7960,  2.7960,  2.7960, -0.0042,\n",
       "         -0.4242, -0.4242, -0.4242, -0.4242, -0.4242, -0.4242, -0.4242, -0.4242,\n",
       "         -0.4242, -0.4242, -0.4242, -0.4242, -0.4242, -0.4242, -0.4242, -0.4242,\n",
       "         -0.4242, -0.4242, -0.4242, -0.4242,  0.8232,  1.9051,  2.7960,  2.7960,\n",
       "          2.7960,  2.7960,  2.7960, -0.0042, -0.4242, -0.4242, -0.4242, -0.4242,\n",
       "         -0.4242, -0.4242, -0.4242, -0.4242, -0.4242, -0.4242, -0.4242, -0.4242,\n",
       "         -0.4242, -0.4242, -0.4242, -0.4242, -0.4242, -0.4242, -0.4242, -0.4242,\n",
       "         -0.4242, -0.3860,  0.9123,  1.8796,  2.7960,  2.7960,  1.3196, -0.3606,\n",
       "         -0.4242, -0.4242, -0.4242, -0.4242, -0.4242, -0.4242, -0.4242, -0.4242,\n",
       "         -0.4242, -0.4242, -0.4242, -0.4242, -0.4242, -0.4242, -0.4242, -0.4242,\n",
       "         -0.4242, -0.4242, -0.4242, -0.4242, -0.4242, -0.4242, -0.4242, -0.4242,\n",
       "         -0.4242, -0.4242, -0.4242, -0.4242, -0.4242, -0.4242, -0.4242, -0.4242,\n",
       "         -0.4242, -0.4242, -0.4242, -0.4242, -0.4242, -0.4242, -0.4242, -0.4242,\n",
       "         -0.4242, -0.4242, -0.4242, -0.4242, -0.4242, -0.4242, -0.4242, -0.4242,\n",
       "         -0.4242, -0.4242, -0.4242, -0.4242, -0.4242, -0.4242, -0.4242, -0.4242,\n",
       "         -0.4242, -0.4242, -0.4242, -0.4242, -0.4242, -0.4242, -0.4242, -0.4242,\n",
       "         -0.4242, -0.4242, -0.4242, -0.4242, -0.4242, -0.4242, -0.4242, -0.4242,\n",
       "         -0.4242, -0.4242, -0.4242, -0.4242, -0.4242, -0.4242, -0.4242, -0.4242,\n",
       "         -0.4242, -0.4242, -0.4242, -0.4242, -0.4242, -0.4242, -0.4242, -0.4242,\n",
       "         -0.4242, -0.4242, -0.4242, -0.4242, -0.4242, -0.4242, -0.4242, -0.4242]])"
      ]
     },
     "execution_count": 44,
     "metadata": {},
     "output_type": "execute_result"
    }
   ],
   "source": [
    "img"
   ]
  },
  {
   "cell_type": "code",
   "execution_count": 3,
   "id": "078d1e85",
   "metadata": {},
   "outputs": [],
   "source": [
    "\n",
    "\n",
    "def create_model():\n",
    "    # Build a feed-forward network for minst dataset\n",
    "    input_size = 784 #28x28\n",
    "    output_size = 10\n",
    "    model = nn.Sequential(nn.Linear(input_size, 128), #Performs W.x + b\n",
    "                          nn.ReLU(),                  # Adds Non-Linearity - this is an activation function\n",
    "                          nn.Linear(128, 64),\n",
    "                          nn.ReLU(),\n",
    "                          nn.Linear(64, output_size),\n",
    "                          nn.LogSoftmax(dim=1)) # soft max activation function, required for classification\n",
    "\n",
    "    return model\n",
    "\n",
    "\n",
    "\n",
    "\n"
   ]
  },
  {
   "cell_type": "code",
   "execution_count": 4,
   "id": "d0545eed",
   "metadata": {},
   "outputs": [],
   "source": [
    "import torch.nn\n",
    "\n",
    "\n",
    "def train(model: torch.nn.Sequential, train_loader, cost, optimizer, epoch):\n",
    "    model.train()\n",
    "    for e in range(epoch):\n",
    "        running_loss= 0\n",
    "        correct= 0\n",
    "        for data, target in train_loader:                                 # Iterates through batches\n",
    "            data = data.view(data.shape[0], -1)                           # Reshapes data\n",
    "            optimizer.zero_grad()                                         # Resets gradients for new batch\n",
    "            pred = model(data)                                            # Runs Forwards Pass\n",
    "            loss = cost(pred, target)                                     # Calculates Loss\n",
    "            running_loss+=loss\n",
    "            loss.backward()                                               # Calculates Gradients for Model Parameters\n",
    "            optimizer.step()                                              # Updates Weights\n",
    "            pred= pred.argmax(dim=1, keepdim=True)\n",
    "            correct += pred.eq(target.view_as(pred)).sum().item()         # Checks how many correct predictions where made\n",
    "        print(f\"Epoch {e}: Loss {running_loss/len(train_loader.dataset)}, Accuracy {100*(correct/len(train_loader.dataset))}%\")\n",
    "        \n",
    "    import torch\n",
    "\n",
    "\n",
    "def test(model, test_loader):\n",
    "    model.eval()\n",
    "    correct = 0\n",
    "    with torch.no_grad():\n",
    "        for data, target in test_loader:\n",
    "            data = data.view(data.shape[0], -1)\n",
    "            output = model(data)\n",
    "            pred = output.argmax(dim=1, keepdim=True) # get the index of the max log-probability correct += pred.eq(target.view_as(pred)).sum().item()\n",
    "        print(f'Test set: Accuracy: {correct}/{len(test_loader.dataset)} = {100*(correct/len(test_loader.dataset))}%)')"
   ]
  },
  {
   "cell_type": "code",
   "execution_count": 9,
   "id": "86aad18d",
   "metadata": {},
   "outputs": [
    {
     "name": "stdout",
     "output_type": "stream",
     "text": [
      "er\n",
      "Epoch 0: Loss 0.006188261788338423, Accuracy 87.57333333333334%\n",
      "Epoch 1: Loss 0.002934621414169669, Accuracy 94.09333333333333%\n",
      "Test set: Accuracy: 0/10000 = 0.0%)\n",
      "Finished\n"
     ]
    }
   ],
   "source": [
    "from torch import nn, optim\n",
    "\n",
    "\n",
    "\n",
    "# COST FUNCTIONS\n",
    "cost = nn.NLLLoss() # negative log likelihood loss, required with Softmax activation function\n",
    "# cost = nn.CrossEntropyLoss()  # cross entropy loss (has Softmax built internally), required for multi-class\n",
    "# cost = nn.MSELoss()  # mean squared error, required for a regression problem\n",
    "\n",
    "\n",
    "# OPTIMSERS - model parameters are often required for optimisers\n",
    "# optimizer = optim.SGD(model.parameters(), lr=0.001, momentum=0.9) # stochastic gradient descent\n",
    "\n",
    "\n",
    "model = create_model()\n",
    "optimizer = optim.Adagrad(model.parameters(), lr=0.001)\n",
    "batch_size = 64\n",
    "epoch = 2\n",
    "cost = nn.NLLLoss()\n",
    "optimizer = optim.Adam(model.parameters(), lr=0.001)\n",
    "\n",
    "# train_loader, test_loader = load_data(training_transform, testing_transform,batch_size)\n",
    "\n",
    "train(model, train_loader, cost, optimizer, epoch)\n",
    "test(model, test_loader)\n",
    "print('Finished')\n",
    "    \n",
    "\n",
    "\n"
   ]
  },
  {
   "cell_type": "code",
   "execution_count": 113,
   "id": "7d7df48e",
   "metadata": {},
   "outputs": [],
   "source": [
    "# read in pickled array\n",
    "import pickle\n",
    "import matplotlib.pyplot as plt\n",
    "\n",
    "objects = []\n",
    "with (open(\"./model_inference/test.pkl\", \"rb\")) as openfile:\n",
    "    while True:\n",
    "        try:\n",
    "            objects.append(pickle.load(openfile))\n",
    "        except EOFError:\n",
    "            break"
   ]
  },
  {
   "cell_type": "code",
   "execution_count": 114,
   "id": "0212aea4",
   "metadata": {},
   "outputs": [],
   "source": [
    "from skimage.transform import resize\n",
    "app = resize(objects[0], (28, 28,1))\n",
    "app = testing_transform(app)"
   ]
  },
  {
   "cell_type": "code",
   "execution_count": 118,
   "id": "77982718",
   "metadata": {},
   "outputs": [
    {
     "data": {
      "text/plain": [
       "tensor([[[2.6306, 2.6306, 2.6306, 2.6306, 2.6306, 2.6274, 2.6242, 2.3155,\n",
       "          0.7277, 2.2185, 2.6242, 2.5987, 2.0085, 1.6823, 1.7794, 2.6083,\n",
       "          2.6274, 2.6242, 2.6178, 1.9114, 1.1573, 2.5558, 2.6274, 2.6306,\n",
       "          2.6306, 2.6306, 2.6306, 2.6306],\n",
       "         [2.6306, 2.6306, 2.6274, 2.6274, 2.6274, 2.6242, 2.6067, 1.6043,\n",
       "          1.0873, 2.5446, 2.6242, 2.3394, 0.5765, 0.4747, 1.1064, 2.5812,\n",
       "          2.6274, 2.6242, 2.4969, 0.8772, 0.9759, 2.5621, 2.6258, 2.6242,\n",
       "          2.6242, 2.6242, 2.6242, 2.6306],\n",
       "         [2.6306, 2.6290, 2.6242, 2.5987, 2.5590, 2.6242, 2.4460, 0.8247,\n",
       "          1.9257, 2.6226, 2.6178, 1.7078, 0.2774, 1.1652, 1.3530, 2.5987,\n",
       "          2.6242, 2.6226, 2.0355, 0.5765, 1.3466, 2.6051, 2.6242, 2.6162,\n",
       "          2.4858, 2.4937, 2.6242, 2.6274],\n",
       "         [2.6306, 2.6242, 2.6131, 2.0069, 1.7078, 2.6051, 1.9051, 0.8232,\n",
       "          2.4555, 2.6242, 2.5128, 0.8884, 0.7627, 1.5137, 1.6887, 2.6178,\n",
       "          2.6242, 2.5749, 1.2877, 0.9393, 1.7587, 2.6210, 2.6131, 2.1389,\n",
       "          1.0125, 1.2893, 2.5717, 2.6274],\n",
       "         [2.6306, 2.6242, 2.2949, 1.0920, 2.1978, 2.5749, 1.1970, 1.5328,\n",
       "          2.6067, 2.6226, 2.0339, 0.3920, 1.7046, 1.2671, 2.0769, 2.6242,\n",
       "          2.6226, 2.3108, 1.0029, 1.0777, 2.1246, 2.6162, 2.1819, 1.0332,\n",
       "          1.7173, 1.0936, 2.5319, 2.6274],\n",
       "         [2.6306, 2.6051, 1.5041, 1.7491, 2.6035, 2.3824, 0.7866, 2.2073,\n",
       "          2.6226, 2.5446, 1.0857, 0.6656, 2.2535, 1.0379, 2.3871, 2.6242,\n",
       "          2.3665, 1.3498, 1.3402, 1.0109, 2.3776, 2.3935, 1.0904, 1.9767,\n",
       "          2.1660, 1.2098, 2.5749, 2.6274],\n",
       "         [2.6306, 2.5940, 1.3848, 2.2089, 2.6226, 1.9369, 1.0443, 2.5144,\n",
       "          2.5956, 2.1183, 0.3904, 1.5153, 1.9416, 1.1509, 2.5526, 2.5383,\n",
       "          1.0968, 0.3808, 0.9838, 0.9218, 2.4603, 1.4071, 1.4230, 1.9528,\n",
       "          1.7794, 1.4930, 2.6083, 2.6274],\n",
       "         [2.6306, 2.6226, 2.4237, 2.5685, 2.5956, 1.3434, 1.2814, 1.5280,\n",
       "          1.6219, 1.1636, 0.4731, 2.0387, 0.7595, 1.5868, 2.6083, 2.1389,\n",
       "          0.3443, 0.6927, 0.4652, 1.3180, 1.9703, 0.5718, 0.6545, 0.9743,\n",
       "          1.0714, 1.6234, 2.6178, 2.6306],\n",
       "         [2.6306, 2.6242, 2.6242, 2.6242, 2.4810, 0.7834, 0.9361, 1.7810,\n",
       "          1.8971, 0.4206, 1.1748, 1.3912, 0.3602, 1.9591, 2.3696, 1.2798,\n",
       "          0.1867, 0.8741, 0.2711, 1.6680, 0.8470, 0.1804, 0.6370, 0.6831,\n",
       "          0.4111, 2.0737, 2.6226, 2.6306],\n",
       "         [2.6306, 2.6306, 2.6290, 2.6242, 2.1453, 0.8072, 2.3378, 2.5781,\n",
       "          1.4087, 0.3522, 1.6521, 0.6052, 0.5925, 0.9027, 0.8088, 0.3713,\n",
       "          0.1963, 0.5209, 0.2154, 0.6481, 0.1661, 0.3140, 0.9138, 0.5845,\n",
       "          0.8534, 2.5192, 2.6242, 2.6274],\n",
       "         [2.6306, 2.6306, 2.6242, 2.6115, 1.5359, 0.3586, 2.2137, 2.3728,\n",
       "          0.5813, 0.8757, 1.1239, 0.6672, 0.4684, 0.7420, 0.3904, 0.1072,\n",
       "          0.1501, 0.2615, 0.1390, 0.2011, 0.7850, 1.7714, 1.4405, 0.5431,\n",
       "          1.5471, 2.6115, 2.6210, 2.5717],\n",
       "         [2.6306, 2.6306, 2.6242, 2.5256, 0.8741, 0.3172, 2.1660, 1.7157,\n",
       "          0.3108, 1.2400, 0.9520, 0.4636, 0.2567, 0.4206, 0.2202, 0.1040,\n",
       "          0.1040, 0.1040, 0.1565, 1.3211, 2.4380, 1.8860, 1.0554, 0.9679,\n",
       "          2.1501, 2.6115, 2.2742, 1.2320],\n",
       "         [2.6306, 2.6306, 2.6242, 2.2630, 0.5018, 0.6577, 2.1039, 0.8184,\n",
       "          0.6100, 0.9329, 1.1939, 0.2138, 0.8025, 0.2392, 0.1040, 0.1040,\n",
       "          0.1215, 0.1358, 0.5129, 2.2869, 2.1485, 1.0395, 1.8573, 1.0984,\n",
       "          2.4683, 2.0180, 0.6959, 1.1159],\n",
       "         [2.6306, 2.6274, 2.6210, 1.7587, 0.6100, 0.9457, 1.6664, 0.3379,\n",
       "          0.8200, 1.2575, 0.6927, 0.1947, 0.3681, 0.1104, 0.1040, 0.1040,\n",
       "          0.2631, 0.2838, 1.4246, 2.3171, 1.0698, 1.9989, 1.5518, 1.6346,\n",
       "          1.7364, 0.5288, 0.8057, 2.3744],\n",
       "         [2.6306, 2.6242, 2.5749, 1.1254, 1.1318, 0.9504, 0.8263, 0.4015,\n",
       "          0.8263, 1.5375, 0.2249, 0.2711, 0.3554, 0.1040, 0.1040, 0.1040,\n",
       "          0.2918, 0.5081, 2.1692, 1.2989, 1.7141, 2.3967, 0.9313, 1.2130,\n",
       "          0.8661, 0.7531, 2.1246, 2.6178],\n",
       "         [2.6306, 2.6242, 2.4046, 0.6672, 1.7364, 0.6386, 0.2631, 0.5065,\n",
       "          1.5550, 0.8407, 0.2472, 0.6593, 0.1756, 0.1040, 0.1040, 0.1247,\n",
       "          0.3077, 1.2750, 1.6616, 1.3227, 2.5112, 1.8350, 0.4174, 1.1907,\n",
       "          1.0061, 1.8366, 2.6019, 2.6242],\n",
       "         [2.6274, 2.6242, 1.9878, 0.6513, 2.0292, 0.3713, 0.1804, 0.8677,\n",
       "          1.7539, 0.2631, 0.5797, 0.3204, 0.1326, 0.1104, 0.1040, 0.1899,\n",
       "          0.4811, 1.7269, 1.0539, 2.3553, 2.3171, 0.9266, 1.4691, 1.3371,\n",
       "          1.5200, 2.5590, 2.6242, 2.6274],\n",
       "         [2.6258, 2.6003, 1.3848, 1.0491, 1.9337, 0.2233, 0.2822, 1.8000,\n",
       "          0.8979, 0.1167, 0.4143, 0.4493, 0.1040, 0.1438, 0.2011, 0.3045,\n",
       "          1.0029, 1.0889, 1.9512, 2.1946, 0.8168, 1.0125, 1.6728, 1.2352,\n",
       "          2.4826, 2.6242, 2.6258, 2.6306],\n",
       "         [2.6242, 2.5192, 0.8502, 1.6282, 1.5757, 0.1645, 1.0364, 1.6282,\n",
       "          0.2377, 0.2138, 1.2400, 0.3761, 0.1040, 0.3538, 0.2536, 0.3077,\n",
       "          1.0570, 1.3116, 1.9480, 0.9552, 0.6290, 1.4532, 1.0427, 2.3203,\n",
       "          2.6226, 2.6242, 2.6306, 2.6306],\n",
       "         [2.6242, 2.3696, 0.6672, 2.0960, 1.1000, 0.4111, 1.7969, 0.4668,\n",
       "          0.1279, 0.9870, 1.3705, 0.1517, 0.1104, 0.3490, 0.1454, 0.3665,\n",
       "          0.6831, 1.2416, 1.0809, 1.6903, 0.8311, 0.9393, 2.0594, 2.6162,\n",
       "          2.6242, 2.6306, 2.6306, 2.6306],\n",
       "         [2.6242, 2.2280, 0.8995, 2.3092, 0.6831, 1.3068, 1.7030, 0.1899,\n",
       "          0.2392, 1.7587, 0.6418, 0.1040, 0.1040, 0.1676, 0.1247, 0.5288,\n",
       "          0.4302, 1.4277, 2.3505, 1.2448, 0.5575, 1.6887, 2.5908, 2.6242,\n",
       "          2.6290, 2.6306, 2.6306, 2.6306],\n",
       "         [2.6242, 2.3553, 1.7189, 2.1198, 0.7118, 2.0705, 0.6975, 0.1454,\n",
       "          0.6227, 1.6362, 0.2106, 0.1040, 0.1040, 0.1040, 0.2329, 1.6553,\n",
       "          2.0117, 2.5574, 2.2105, 0.4540, 1.1907, 2.5208, 2.6242, 2.6258,\n",
       "          2.6306, 2.6306, 2.6306, 2.6306],\n",
       "         [2.6242, 2.6226, 2.5574, 1.3593, 1.3657, 1.5884, 0.1883, 0.3506,\n",
       "          1.2957, 0.8995, 0.1136, 0.1040, 0.1040, 0.1040, 0.5845, 2.4142,\n",
       "          2.6210, 2.5797, 1.3132, 0.8088, 2.3633, 2.6226, 2.6242, 2.6306,\n",
       "          2.6306, 2.6306, 2.6306, 2.6306],\n",
       "         [2.6274, 2.6242, 2.3203, 0.6290, 1.7937, 0.6450, 0.1390, 0.4620,\n",
       "          1.6043, 0.3697, 0.1979, 0.1836, 0.1390, 0.1247, 1.2305, 2.5876,\n",
       "          2.6242, 2.4874, 1.1748, 2.1548, 2.6178, 2.6242, 2.6306, 2.6306,\n",
       "          2.6306, 2.6306, 2.6306, 2.6306],\n",
       "         [2.6274, 2.6115, 1.5582, 0.5447, 1.8780, 0.3808, 0.2106, 0.8597,\n",
       "          1.1684, 0.5781, 0.3570, 0.4206, 0.2217, 0.4413, 2.0864, 2.6226,\n",
       "          2.6242, 2.6194, 2.5224, 2.6131, 2.6242, 2.6290, 2.6306, 2.6306,\n",
       "          2.6306, 2.6306, 2.6306, 2.6306],\n",
       "         [2.6274, 2.6051, 1.5678, 1.0268, 1.7412, 0.7802, 0.3013, 1.4755,\n",
       "          0.5877, 1.0061, 0.2870, 0.5956, 0.2408, 1.1668, 2.5717, 2.6242,\n",
       "          2.6290, 2.6274, 2.6274, 2.6274, 2.6290, 2.6306, 2.6306, 2.6306,\n",
       "          2.6306, 2.6306, 2.6306, 2.6306],\n",
       "         [2.6274, 2.6178, 1.6839, 1.4596, 1.0491, 1.1079, 0.5877, 1.5709,\n",
       "          0.6975, 0.9711, 0.4970, 0.5654, 0.3299, 1.9623, 2.6226, 2.6274,\n",
       "          2.6306, 2.6306, 2.6306, 2.6306, 2.6306, 2.6306, 2.6306, 2.6306,\n",
       "          2.6306, 2.6306, 2.6306, 2.6306],\n",
       "         [2.6274, 2.5749, 1.2209, 1.4055, 1.2591, 0.9727, 1.2846, 1.3434,\n",
       "          1.3546, 0.5956, 0.8948, 0.5224, 0.7961, 2.4635, 2.6242, 2.6306,\n",
       "          2.6306, 2.6306, 2.6306, 2.6306, 2.6306, 2.6306, 2.6306, 2.6306,\n",
       "          2.6306, 2.6306, 2.6306, 2.6306]]], dtype=torch.float64)"
      ]
     },
     "execution_count": 118,
     "metadata": {},
     "output_type": "execute_result"
    }
   ],
   "source": [
    "app"
   ]
  },
  {
   "cell_type": "code",
   "execution_count": 115,
   "id": "0bc6308a",
   "metadata": {},
   "outputs": [
    {
     "data": {
      "image/png": "[encoded data removed]",
      "text/plain": [
       "<Figure size 432x288 with 1 Axes>"
      ]
     },
     "metadata": {
      "needs_background": "light"
     },
     "output_type": "display_data"
    }
   ],
   "source": [
    "plt.imshow(app.squeeze(), cmap='gray');"
   ]
  },
  {
   "cell_type": "code",
   "execution_count": 120,
   "id": "9ec4f5fe",
   "metadata": {},
   "outputs": [],
   "source": [
    "\n",
    "from torchvision import datasets, transforms\n",
    "testing_transform = transforms.Compose([          # No Data Augmentation for test transform\n",
    "    transforms.ToTensor(),\n",
    "    transforms.Normalize((0.1307,), (0.3081,))\n",
    "    ])\n",
    "\n",
    "\n",
    "\n",
    "\n",
    "\n",
    "\n",
    "\n",
    "testset = datasets.MNIST('temp_data/', download=True, train=False, transform=testing_transform)\n",
    "test_loader = torch.utils.data.DataLoader(testset, batch_size=batch_size, shuffle=True)"
   ]
  },
  {
   "cell_type": "code",
   "execution_count": 117,
   "id": "576ab0c5",
   "metadata": {},
   "outputs": [
    {
     "name": "stdout",
     "output_type": "stream",
     "text": [
      "Predicted Digit = 7\n"
     ]
    },
    {
     "data": {
      "text/plain": [
       "[2.922305e-07,\n",
       " 0.03286144,\n",
       " 0.0031179462,\n",
       " 0.11341728,\n",
       " 7.798326e-08,\n",
       " 0.011597022,\n",
       " 0.00028479847,\n",
       " 0.83674043,\n",
       " 2.2730149e-09,\n",
       " 0.0019807373]"
      ]
     },
     "execution_count": 117,
     "metadata": {},
     "output_type": "execute_result"
    }
   ],
   "source": [
    "# images, labels = next(iter(test_loader))\n",
    "\n",
    "img = app.view(1, 784).float()\n",
    "with torch.no_grad():\n",
    "    logps = model(img)\n",
    "\n",
    "ps = torch.exp(logps)\n",
    "probab = list(ps.numpy()[0])\n",
    "print(\"Predicted Digit =\", probab.index(max(probab)))\n",
    "probab"
   ]
  },
  {
   "cell_type": "code",
   "execution_count": 35,
   "id": "18df8229",
   "metadata": {},
   "outputs": [
    {
     "data": {
      "text/plain": [
       "array([1.17929785e-05, 1.51700903e-07, 1.64180310e-04, 1.17202183e-06,\n",
       "       1.23129594e-05, 4.31499648e-05, 9.99750435e-01, 8.71032029e-08,\n",
       "       1.66225364e-05, 9.21872640e-08], dtype=float32)"
      ]
     },
     "execution_count": 35,
     "metadata": {},
     "output_type": "execute_result"
    }
   ],
   "source": [
    "ps.numpy()[0]"
   ]
  },
  {
   "cell_type": "code",
   "execution_count": 19,
   "id": "70be5adf",
   "metadata": {},
   "outputs": [],
   "source": [
    "dataiter = iter(test_loader)\n",
    "images, labels = dataiter.next()"
   ]
  },
  {
   "cell_type": "code",
   "execution_count": 40,
   "id": "d3cb1020",
   "metadata": {},
   "outputs": [
    {
     "data": {
      "image/png": "[encoded data removed]",
      "text/plain": [
       "<Figure size 432x288 with 1 Axes>"
      ]
     },
     "metadata": {
      "needs_background": "light"
     },
     "output_type": "display_data"
    }
   ],
   "source": [
    "plt.imshow(images[3].numpy().squeeze(), cmap='gray_r');"
   ]
  },
  {
   "cell_type": "code",
   "execution_count": 17,
   "id": "14d114ff",
   "metadata": {},
   "outputs": [
    {
     "data": {
      "text/plain": [
       "[1.587406e-05,\n",
       " 8.1848873e-07,\n",
       " 6.0159018e-05,\n",
       " 0.00018174092,\n",
       " 1.8346918e-11,\n",
       " 0.9992963,\n",
       " 0.00039334738,\n",
       " 1.4164948e-06,\n",
       " 5.0295e-05,\n",
       " 4.326459e-09]"
      ]
     },
     "execution_count": 17,
     "metadata": {},
     "output_type": "execute_result"
    }
   ],
   "source": [
    "probab"
   ]
  },
  {
   "cell_type": "code",
   "execution_count": null,
   "id": "f0b5b942",
   "metadata": {},
   "outputs": [],
   "source": []
  }
 ],
 "metadata": {
  "kernelspec": {
   "display_name": "Python 3",
   "language": "python",
   "name": "python3"
  },
  "language_info": {
   "codemirror_mode": {
    "name": "ipython",
    "version": 3
   },
   "file_extension": ".py",
   "mimetype": "text/x-python",
   "name": "python",
   "nbconvert_exporter": "python",
   "pygments_lexer": "ipython3",
   "version": "3.6.13"
  },
  "varInspector": {
   "cols": {
    "lenName": 16,
    "lenType": 16,
    "lenVar": 40
   },
   "kernels_config": {
    "python": {
     "delete_cmd_postfix": "",
     "delete_cmd_prefix": "del ",
     "library": "var_list.py",
     "varRefreshCmd": "print(var_dic_list())"
    },
    "r": {
     "delete_cmd_postfix": ") ",
     "delete_cmd_prefix": "rm(",
     "library": "var_list.r",
     "varRefreshCmd": "cat(var_dic_list()) "
    }
   },
   "types_to_exclude": [
    "module",
    "function",
    "builtin_function_or_method",
    "instance",
    "_Feature"
   ],
   "window_display": false
  }
 },
 "nbformat": 4,
 "nbformat_minor": 5
}
